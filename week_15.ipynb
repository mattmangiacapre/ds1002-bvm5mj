{
  "nbformat": 4,
  "nbformat_minor": 0,
  "metadata": {
    "colab": {
      "provenance": [],
      "include_colab_link": true
    },
    "kernelspec": {
      "name": "ir",
      "display_name": "R"
    },
    "language_info": {
      "name": "R"
    }
  },
  "cells": [
    {
      "cell_type": "markdown",
      "metadata": {
        "id": "view-in-github",
        "colab_type": "text"
      },
      "source": [
        "<a href=\"https://colab.research.google.com/github/mattmangiacapre/ds1002-bvm5mj/blob/main/week_15.ipynb\" target=\"_parent\"><img src=\"https://colab.research.google.com/assets/colab-badge.svg\" alt=\"Open In Colab\"/></a>"
      ]
    },
    {
      "cell_type": "markdown",
      "source": [
        "# Homework - Week 15\n",
        "\n",
        "Complete the following blocks as specified in the directions. Run each cell to return the desired output. Save your notebook back to your GitHub repository and submit the GitHub URL to your notebook for review."
      ],
      "metadata": {
        "id": "sZruw3XQogej"
      }
    },
    {
      "cell_type": "markdown",
      "source": [
        "## 1. Create Functions (4 pts)\n",
        "\n",
        "Create two functions in the cells below, according to the prompts given."
      ],
      "metadata": {
        "id": "lkaofBQypx1X"
      }
    },
    {
      "cell_type": "code",
      "source": [
        "# create a function in R that:\n",
        "#   1. takes a single integer as an input parameter\n",
        "#   2. determines whether the integer is even or odd\n",
        "#   3. returns a character statement \"The integer <x> is even\" or \"The integer <x> is odd\" (replace <x> with the actual input provided)\n",
        "#\n",
        "# then execute the function twice using two different input values, displaying even and odd results.\n",
        "\n",
        "odd_or_even <- function(x){ if (x %% 2 == 1) {\n",
        "    return(sprintf(\"The integer %i is odd\", x))\n",
        "  } else {\n",
        "    return(sprintf(\"The integer %i is even\", x))\n",
        "  }\n",
        "}\n",
        "\n",
        "odd_or_even(3)\n",
        "odd_or_even(4)"
      ],
      "metadata": {
        "id": "1fjq5bkEp6Zv",
        "outputId": "012d8649-f7de-4869-d14a-b19c10d98d6c",
        "colab": {
          "base_uri": "https://localhost:8080/",
          "height": 52
        }
      },
      "execution_count": 263,
      "outputs": [
        {
          "output_type": "display_data",
          "data": {
            "text/html": [
              "'The integer 3 is odd'"
            ],
            "text/markdown": "'The integer 3 is odd'",
            "text/latex": "'The integer 3 is odd'",
            "text/plain": [
              "[1] \"The integer 3 is odd\""
            ]
          },
          "metadata": {}
        },
        {
          "output_type": "display_data",
          "data": {
            "text/html": [
              "'The integer 4 is even'"
            ],
            "text/markdown": "'The integer 4 is even'",
            "text/latex": "'The integer 4 is even'",
            "text/plain": [
              "[1] \"The integer 4 is even\""
            ]
          },
          "metadata": {}
        }
      ]
    },
    {
      "cell_type": "code",
      "source": [
        "# create a function in R that:\n",
        "#   1. takes 4 integer input parameters\n",
        "#   2. returns the mean value of the inputs\n",
        "#   3. has default values for the 4 input parameters, in case they are not provided when the function is called.\n",
        "#\n",
        "# then execute the function twice: once where you provide the input values, and once where you do not.\n",
        "\n",
        "mean <- function(num1 = 1, num2 = 1, num3 = 1, num4 = 1) {\n",
        "  m = (num1 + num2 + num3 + num4) / 4\n",
        "  return(m)\n",
        "}\n",
        "\n",
        "mean(1, 2, 3, 4)\n",
        "mean()"
      ],
      "metadata": {
        "id": "f3IFD-T6p6Rd",
        "outputId": "c379eadd-538b-477c-9747-cb9b6001da68",
        "colab": {
          "base_uri": "https://localhost:8080/",
          "height": 52
        }
      },
      "execution_count": 264,
      "outputs": [
        {
          "output_type": "display_data",
          "data": {
            "text/html": [
              "2.5"
            ],
            "text/markdown": "2.5",
            "text/latex": "2.5",
            "text/plain": [
              "[1] 2.5"
            ]
          },
          "metadata": {}
        },
        {
          "output_type": "display_data",
          "data": {
            "text/html": [
              "1"
            ],
            "text/markdown": "1",
            "text/latex": "1",
            "text/plain": [
              "[1] 1"
            ]
          },
          "metadata": {}
        }
      ]
    },
    {
      "cell_type": "markdown",
      "source": [
        "## 2. Plot Data (4 pts)"
      ],
      "metadata": {
        "id": "F6Rx0GIGrpOB"
      }
    },
    {
      "cell_type": "markdown",
      "source": [
        "In the cell below, write the code required to plot from the `msleep` sample data set.\n",
        "\n",
        "1. Display only animals with body weights of 30 or greater.\n",
        "2. Group the animals by `order`.\n",
        "3. Display the mean `sleep_total` for each group in a bar plot."
      ],
      "metadata": {
        "id": "IDLyOjOJsFCX"
      }
    },
    {
      "cell_type": "code",
      "source": [
        "# Loading library to enable \"msleep\" data set\n",
        "install.packages(\"tidyverse\")\n",
        "library(tidyverse)"
      ],
      "metadata": {
        "id": "0D5Ia-BPsoPZ",
        "outputId": "db07c9ba-619f-42ff-dcc0-bad019cffce1",
        "colab": {
          "base_uri": "https://localhost:8080/"
        }
      },
      "execution_count": 265,
      "outputs": [
        {
          "output_type": "stream",
          "name": "stderr",
          "text": [
            "Installing package into ‘/usr/local/lib/R/site-library’\n",
            "(as ‘lib’ is unspecified)\n",
            "\n"
          ]
        }
      ]
    },
    {
      "cell_type": "code",
      "source": [
        "# Filter Data\n",
        "\n",
        "msleep_filtered <- msleep %>%\n",
        "  filter(bodywt > 30) %>%\n",
        "  group_by(order) %>%\n",
        "  arrange(order) %>%\n",
        "  mutate(average_sleep = sum(sleep_total) / n()) %>%\n",
        "  # for plotting purposes, I will chop it up by the counts so that it doesn't sum\n",
        "  # the averages when it plots. I do not know another way how to fix this, I've been trying for an hour :)\n",
        "  mutate(average_sleep1 = average_sleep / n())\n",
        "\n",
        "msleep_filtered\n",
        "ggplot(msleep_filtered, aes(x = order, y = average_sleep1)) + geom_col(width = .75, fill = \"orange\")"
      ],
      "metadata": {
        "id": "1jAibXMcTPyT",
        "outputId": "9f8703ff-a629-4299-9e9a-b222158586f5",
        "colab": {
          "base_uri": "https://localhost:8080/",
          "height": 1000
        }
      },
      "execution_count": 266,
      "outputs": [
        {
          "output_type": "display_data",
          "data": {
            "text/html": [
              "<table class=\"dataframe\">\n",
              "<caption>A grouped_df: 22 × 13</caption>\n",
              "<thead>\n",
              "\t<tr><th scope=col>name</th><th scope=col>genus</th><th scope=col>vore</th><th scope=col>order</th><th scope=col>conservation</th><th scope=col>sleep_total</th><th scope=col>sleep_rem</th><th scope=col>sleep_cycle</th><th scope=col>awake</th><th scope=col>brainwt</th><th scope=col>bodywt</th><th scope=col>average_sleep</th><th scope=col>average_sleep1</th></tr>\n",
              "\t<tr><th scope=col>&lt;chr&gt;</th><th scope=col>&lt;chr&gt;</th><th scope=col>&lt;chr&gt;</th><th scope=col>&lt;chr&gt;</th><th scope=col>&lt;chr&gt;</th><th scope=col>&lt;dbl&gt;</th><th scope=col>&lt;dbl&gt;</th><th scope=col>&lt;dbl&gt;</th><th scope=col>&lt;dbl&gt;</th><th scope=col>&lt;dbl&gt;</th><th scope=col>&lt;dbl&gt;</th><th scope=col>&lt;dbl&gt;</th><th scope=col>&lt;dbl&gt;</th></tr>\n",
              "</thead>\n",
              "<tbody>\n",
              "\t<tr><td>Cow                 </td><td>Bos          </td><td>herbi  </td><td>Artiodactyla  </td><td>domesticated</td><td> 4.0</td><td>0.7</td><td>0.6666667</td><td>20.00</td><td>0.423</td><td> 600.000</td><td> 4.820000</td><td> 0.964000</td></tr>\n",
              "\t<tr><td>Goat                </td><td>Capri        </td><td>herbi  </td><td>Artiodactyla  </td><td>lc          </td><td> 5.3</td><td>0.6</td><td>       NA</td><td>18.70</td><td>0.115</td><td>  33.500</td><td> 4.820000</td><td> 0.964000</td></tr>\n",
              "\t<tr><td>Giraffe             </td><td>Giraffa      </td><td>herbi  </td><td>Artiodactyla  </td><td>cd          </td><td> 1.9</td><td>0.4</td><td>       NA</td><td>22.10</td><td>   NA</td><td> 899.995</td><td> 4.820000</td><td> 0.964000</td></tr>\n",
              "\t<tr><td>Sheep               </td><td>Ovis         </td><td>herbi  </td><td>Artiodactyla  </td><td>domesticated</td><td> 3.8</td><td>0.6</td><td>       NA</td><td>20.20</td><td>0.175</td><td>  55.500</td><td> 4.820000</td><td> 0.964000</td></tr>\n",
              "\t<tr><td>Pig                 </td><td>Sus          </td><td>omni   </td><td>Artiodactyla  </td><td>domesticated</td><td> 9.1</td><td>2.4</td><td>0.5000000</td><td>14.90</td><td>0.180</td><td>  86.250</td><td> 4.820000</td><td> 0.964000</td></tr>\n",
              "\t<tr><td>Cheetah             </td><td>Acinonyx     </td><td>carni  </td><td>Carnivora     </td><td>lc          </td><td>12.1</td><td> NA</td><td>       NA</td><td>11.90</td><td>   NA</td><td>  50.000</td><td>10.250000</td><td> 1.708333</td></tr>\n",
              "\t<tr><td>Gray seal           </td><td>Haliochoerus </td><td>carni  </td><td>Carnivora     </td><td>lc          </td><td> 6.2</td><td>1.5</td><td>       NA</td><td>17.80</td><td>0.325</td><td>  85.000</td><td>10.250000</td><td> 1.708333</td></tr>\n",
              "\t<tr><td>Tiger               </td><td>Panthera     </td><td>carni  </td><td>Carnivora     </td><td>en          </td><td>15.8</td><td> NA</td><td>       NA</td><td> 8.20</td><td>   NA</td><td> 162.564</td><td>10.250000</td><td> 1.708333</td></tr>\n",
              "\t<tr><td>Jaguar              </td><td>Panthera     </td><td>carni  </td><td>Carnivora     </td><td>nt          </td><td>10.4</td><td> NA</td><td>       NA</td><td>13.60</td><td>0.157</td><td> 100.000</td><td>10.250000</td><td> 1.708333</td></tr>\n",
              "\t<tr><td>Lion                </td><td>Panthera     </td><td>carni  </td><td>Carnivora     </td><td>vu          </td><td>13.5</td><td> NA</td><td>       NA</td><td>10.50</td><td>   NA</td><td> 161.499</td><td>10.250000</td><td> 1.708333</td></tr>\n",
              "\t<tr><td>Caspian seal        </td><td>Phoca        </td><td>carni  </td><td>Carnivora     </td><td>vu          </td><td> 3.5</td><td>0.4</td><td>       NA</td><td>20.50</td><td>   NA</td><td>  86.000</td><td>10.250000</td><td> 1.708333</td></tr>\n",
              "\t<tr><td>Pilot whale         </td><td>Globicephalus</td><td>carni  </td><td>Cetacea       </td><td>cd          </td><td> 2.7</td><td>0.1</td><td>       NA</td><td>21.35</td><td>   NA</td><td> 800.000</td><td> 4.500000</td><td> 1.500000</td></tr>\n",
              "\t<tr><td>Common porpoise     </td><td>Phocoena     </td><td>carni  </td><td>Cetacea       </td><td>vu          </td><td> 5.6</td><td> NA</td><td>       NA</td><td>18.45</td><td>   NA</td><td>  53.180</td><td> 4.500000</td><td> 1.500000</td></tr>\n",
              "\t<tr><td>Bottle-nosed dolphin</td><td>Tursiops     </td><td>carni  </td><td>Cetacea       </td><td>NA          </td><td> 5.2</td><td> NA</td><td>       NA</td><td>18.80</td><td>   NA</td><td> 173.330</td><td> 4.500000</td><td> 1.500000</td></tr>\n",
              "\t<tr><td>Giant armadillo     </td><td>Priodontes   </td><td>insecti</td><td>Cingulata     </td><td>en          </td><td>18.1</td><td>6.1</td><td>       NA</td><td> 5.90</td><td>0.081</td><td>  60.000</td><td>18.100000</td><td>18.100000</td></tr>\n",
              "\t<tr><td>Horse               </td><td>Equus        </td><td>herbi  </td><td>Perissodactyla</td><td>domesticated</td><td> 2.9</td><td>0.6</td><td>1.0000000</td><td>21.10</td><td>0.655</td><td> 521.000</td><td> 3.466667</td><td> 1.155556</td></tr>\n",
              "\t<tr><td>Donkey              </td><td>Equus        </td><td>herbi  </td><td>Perissodactyla</td><td>domesticated</td><td> 3.1</td><td>0.4</td><td>       NA</td><td>20.90</td><td>0.419</td><td> 187.000</td><td> 3.466667</td><td> 1.155556</td></tr>\n",
              "\t<tr><td>Brazilian tapir     </td><td>Tapirus      </td><td>herbi  </td><td>Perissodactyla</td><td>vu          </td><td> 4.4</td><td>1.0</td><td>0.9000000</td><td>19.60</td><td>0.169</td><td> 207.501</td><td> 3.466667</td><td> 1.155556</td></tr>\n",
              "\t<tr><td>Human               </td><td>Homo         </td><td>omni   </td><td>Primates      </td><td>NA          </td><td> 8.0</td><td>1.9</td><td>1.5000000</td><td>16.00</td><td>1.320</td><td>  62.000</td><td> 8.850000</td><td> 4.425000</td></tr>\n",
              "\t<tr><td>Chimpanzee          </td><td>Pan          </td><td>omni   </td><td>Primates      </td><td>NA          </td><td> 9.7</td><td>1.4</td><td>1.4166667</td><td>14.30</td><td>0.440</td><td>  52.200</td><td> 8.850000</td><td> 4.425000</td></tr>\n",
              "\t<tr><td>Asian elephant      </td><td>Elephas      </td><td>herbi  </td><td>Proboscidea   </td><td>en          </td><td> 3.9</td><td> NA</td><td>       NA</td><td>20.10</td><td>4.603</td><td>2547.000</td><td> 3.600000</td><td> 1.800000</td></tr>\n",
              "\t<tr><td>African elephant    </td><td>Loxodonta    </td><td>herbi  </td><td>Proboscidea   </td><td>vu          </td><td> 3.3</td><td> NA</td><td>       NA</td><td>20.70</td><td>5.712</td><td>6654.000</td><td> 3.600000</td><td> 1.800000</td></tr>\n",
              "</tbody>\n",
              "</table>\n"
            ],
            "text/markdown": "\nA grouped_df: 22 × 13\n\n| name &lt;chr&gt; | genus &lt;chr&gt; | vore &lt;chr&gt; | order &lt;chr&gt; | conservation &lt;chr&gt; | sleep_total &lt;dbl&gt; | sleep_rem &lt;dbl&gt; | sleep_cycle &lt;dbl&gt; | awake &lt;dbl&gt; | brainwt &lt;dbl&gt; | bodywt &lt;dbl&gt; | average_sleep &lt;dbl&gt; | average_sleep1 &lt;dbl&gt; |\n|---|---|---|---|---|---|---|---|---|---|---|---|---|\n| Cow                  | Bos           | herbi   | Artiodactyla   | domesticated |  4.0 | 0.7 | 0.6666667 | 20.00 | 0.423 |  600.000 |  4.820000 |  0.964000 |\n| Goat                 | Capri         | herbi   | Artiodactyla   | lc           |  5.3 | 0.6 |        NA | 18.70 | 0.115 |   33.500 |  4.820000 |  0.964000 |\n| Giraffe              | Giraffa       | herbi   | Artiodactyla   | cd           |  1.9 | 0.4 |        NA | 22.10 |    NA |  899.995 |  4.820000 |  0.964000 |\n| Sheep                | Ovis          | herbi   | Artiodactyla   | domesticated |  3.8 | 0.6 |        NA | 20.20 | 0.175 |   55.500 |  4.820000 |  0.964000 |\n| Pig                  | Sus           | omni    | Artiodactyla   | domesticated |  9.1 | 2.4 | 0.5000000 | 14.90 | 0.180 |   86.250 |  4.820000 |  0.964000 |\n| Cheetah              | Acinonyx      | carni   | Carnivora      | lc           | 12.1 |  NA |        NA | 11.90 |    NA |   50.000 | 10.250000 |  1.708333 |\n| Gray seal            | Haliochoerus  | carni   | Carnivora      | lc           |  6.2 | 1.5 |        NA | 17.80 | 0.325 |   85.000 | 10.250000 |  1.708333 |\n| Tiger                | Panthera      | carni   | Carnivora      | en           | 15.8 |  NA |        NA |  8.20 |    NA |  162.564 | 10.250000 |  1.708333 |\n| Jaguar               | Panthera      | carni   | Carnivora      | nt           | 10.4 |  NA |        NA | 13.60 | 0.157 |  100.000 | 10.250000 |  1.708333 |\n| Lion                 | Panthera      | carni   | Carnivora      | vu           | 13.5 |  NA |        NA | 10.50 |    NA |  161.499 | 10.250000 |  1.708333 |\n| Caspian seal         | Phoca         | carni   | Carnivora      | vu           |  3.5 | 0.4 |        NA | 20.50 |    NA |   86.000 | 10.250000 |  1.708333 |\n| Pilot whale          | Globicephalus | carni   | Cetacea        | cd           |  2.7 | 0.1 |        NA | 21.35 |    NA |  800.000 |  4.500000 |  1.500000 |\n| Common porpoise      | Phocoena      | carni   | Cetacea        | vu           |  5.6 |  NA |        NA | 18.45 |    NA |   53.180 |  4.500000 |  1.500000 |\n| Bottle-nosed dolphin | Tursiops      | carni   | Cetacea        | NA           |  5.2 |  NA |        NA | 18.80 |    NA |  173.330 |  4.500000 |  1.500000 |\n| Giant armadillo      | Priodontes    | insecti | Cingulata      | en           | 18.1 | 6.1 |        NA |  5.90 | 0.081 |   60.000 | 18.100000 | 18.100000 |\n| Horse                | Equus         | herbi   | Perissodactyla | domesticated |  2.9 | 0.6 | 1.0000000 | 21.10 | 0.655 |  521.000 |  3.466667 |  1.155556 |\n| Donkey               | Equus         | herbi   | Perissodactyla | domesticated |  3.1 | 0.4 |        NA | 20.90 | 0.419 |  187.000 |  3.466667 |  1.155556 |\n| Brazilian tapir      | Tapirus       | herbi   | Perissodactyla | vu           |  4.4 | 1.0 | 0.9000000 | 19.60 | 0.169 |  207.501 |  3.466667 |  1.155556 |\n| Human                | Homo          | omni    | Primates       | NA           |  8.0 | 1.9 | 1.5000000 | 16.00 | 1.320 |   62.000 |  8.850000 |  4.425000 |\n| Chimpanzee           | Pan           | omni    | Primates       | NA           |  9.7 | 1.4 | 1.4166667 | 14.30 | 0.440 |   52.200 |  8.850000 |  4.425000 |\n| Asian elephant       | Elephas       | herbi   | Proboscidea    | en           |  3.9 |  NA |        NA | 20.10 | 4.603 | 2547.000 |  3.600000 |  1.800000 |\n| African elephant     | Loxodonta     | herbi   | Proboscidea    | vu           |  3.3 |  NA |        NA | 20.70 | 5.712 | 6654.000 |  3.600000 |  1.800000 |\n\n",
            "text/latex": "A grouped\\_df: 22 × 13\n\\begin{tabular}{lllllllllllll}\n name & genus & vore & order & conservation & sleep\\_total & sleep\\_rem & sleep\\_cycle & awake & brainwt & bodywt & average\\_sleep & average\\_sleep1\\\\\n <chr> & <chr> & <chr> & <chr> & <chr> & <dbl> & <dbl> & <dbl> & <dbl> & <dbl> & <dbl> & <dbl> & <dbl>\\\\\n\\hline\n\t Cow                  & Bos           & herbi   & Artiodactyla   & domesticated &  4.0 & 0.7 & 0.6666667 & 20.00 & 0.423 &  600.000 &  4.820000 &  0.964000\\\\\n\t Goat                 & Capri         & herbi   & Artiodactyla   & lc           &  5.3 & 0.6 &        NA & 18.70 & 0.115 &   33.500 &  4.820000 &  0.964000\\\\\n\t Giraffe              & Giraffa       & herbi   & Artiodactyla   & cd           &  1.9 & 0.4 &        NA & 22.10 &    NA &  899.995 &  4.820000 &  0.964000\\\\\n\t Sheep                & Ovis          & herbi   & Artiodactyla   & domesticated &  3.8 & 0.6 &        NA & 20.20 & 0.175 &   55.500 &  4.820000 &  0.964000\\\\\n\t Pig                  & Sus           & omni    & Artiodactyla   & domesticated &  9.1 & 2.4 & 0.5000000 & 14.90 & 0.180 &   86.250 &  4.820000 &  0.964000\\\\\n\t Cheetah              & Acinonyx      & carni   & Carnivora      & lc           & 12.1 &  NA &        NA & 11.90 &    NA &   50.000 & 10.250000 &  1.708333\\\\\n\t Gray seal            & Haliochoerus  & carni   & Carnivora      & lc           &  6.2 & 1.5 &        NA & 17.80 & 0.325 &   85.000 & 10.250000 &  1.708333\\\\\n\t Tiger                & Panthera      & carni   & Carnivora      & en           & 15.8 &  NA &        NA &  8.20 &    NA &  162.564 & 10.250000 &  1.708333\\\\\n\t Jaguar               & Panthera      & carni   & Carnivora      & nt           & 10.4 &  NA &        NA & 13.60 & 0.157 &  100.000 & 10.250000 &  1.708333\\\\\n\t Lion                 & Panthera      & carni   & Carnivora      & vu           & 13.5 &  NA &        NA & 10.50 &    NA &  161.499 & 10.250000 &  1.708333\\\\\n\t Caspian seal         & Phoca         & carni   & Carnivora      & vu           &  3.5 & 0.4 &        NA & 20.50 &    NA &   86.000 & 10.250000 &  1.708333\\\\\n\t Pilot whale          & Globicephalus & carni   & Cetacea        & cd           &  2.7 & 0.1 &        NA & 21.35 &    NA &  800.000 &  4.500000 &  1.500000\\\\\n\t Common porpoise      & Phocoena      & carni   & Cetacea        & vu           &  5.6 &  NA &        NA & 18.45 &    NA &   53.180 &  4.500000 &  1.500000\\\\\n\t Bottle-nosed dolphin & Tursiops      & carni   & Cetacea        & NA           &  5.2 &  NA &        NA & 18.80 &    NA &  173.330 &  4.500000 &  1.500000\\\\\n\t Giant armadillo      & Priodontes    & insecti & Cingulata      & en           & 18.1 & 6.1 &        NA &  5.90 & 0.081 &   60.000 & 18.100000 & 18.100000\\\\\n\t Horse                & Equus         & herbi   & Perissodactyla & domesticated &  2.9 & 0.6 & 1.0000000 & 21.10 & 0.655 &  521.000 &  3.466667 &  1.155556\\\\\n\t Donkey               & Equus         & herbi   & Perissodactyla & domesticated &  3.1 & 0.4 &        NA & 20.90 & 0.419 &  187.000 &  3.466667 &  1.155556\\\\\n\t Brazilian tapir      & Tapirus       & herbi   & Perissodactyla & vu           &  4.4 & 1.0 & 0.9000000 & 19.60 & 0.169 &  207.501 &  3.466667 &  1.155556\\\\\n\t Human                & Homo          & omni    & Primates       & NA           &  8.0 & 1.9 & 1.5000000 & 16.00 & 1.320 &   62.000 &  8.850000 &  4.425000\\\\\n\t Chimpanzee           & Pan           & omni    & Primates       & NA           &  9.7 & 1.4 & 1.4166667 & 14.30 & 0.440 &   52.200 &  8.850000 &  4.425000\\\\\n\t Asian elephant       & Elephas       & herbi   & Proboscidea    & en           &  3.9 &  NA &        NA & 20.10 & 4.603 & 2547.000 &  3.600000 &  1.800000\\\\\n\t African elephant     & Loxodonta     & herbi   & Proboscidea    & vu           &  3.3 &  NA &        NA & 20.70 & 5.712 & 6654.000 &  3.600000 &  1.800000\\\\\n\\end{tabular}\n",
            "text/plain": [
              "   name                 genus         vore    order          conservation\n",
              "1  Cow                  Bos           herbi   Artiodactyla   domesticated\n",
              "2  Goat                 Capri         herbi   Artiodactyla   lc          \n",
              "3  Giraffe              Giraffa       herbi   Artiodactyla   cd          \n",
              "4  Sheep                Ovis          herbi   Artiodactyla   domesticated\n",
              "5  Pig                  Sus           omni    Artiodactyla   domesticated\n",
              "6  Cheetah              Acinonyx      carni   Carnivora      lc          \n",
              "7  Gray seal            Haliochoerus  carni   Carnivora      lc          \n",
              "8  Tiger                Panthera      carni   Carnivora      en          \n",
              "9  Jaguar               Panthera      carni   Carnivora      nt          \n",
              "10 Lion                 Panthera      carni   Carnivora      vu          \n",
              "11 Caspian seal         Phoca         carni   Carnivora      vu          \n",
              "12 Pilot whale          Globicephalus carni   Cetacea        cd          \n",
              "13 Common porpoise      Phocoena      carni   Cetacea        vu          \n",
              "14 Bottle-nosed dolphin Tursiops      carni   Cetacea        NA          \n",
              "15 Giant armadillo      Priodontes    insecti Cingulata      en          \n",
              "16 Horse                Equus         herbi   Perissodactyla domesticated\n",
              "17 Donkey               Equus         herbi   Perissodactyla domesticated\n",
              "18 Brazilian tapir      Tapirus       herbi   Perissodactyla vu          \n",
              "19 Human                Homo          omni    Primates       NA          \n",
              "20 Chimpanzee           Pan           omni    Primates       NA          \n",
              "21 Asian elephant       Elephas       herbi   Proboscidea    en          \n",
              "22 African elephant     Loxodonta     herbi   Proboscidea    vu          \n",
              "   sleep_total sleep_rem sleep_cycle awake brainwt bodywt   average_sleep\n",
              "1   4.0        0.7       0.6666667   20.00 0.423    600.000  4.820000    \n",
              "2   5.3        0.6              NA   18.70 0.115     33.500  4.820000    \n",
              "3   1.9        0.4              NA   22.10    NA    899.995  4.820000    \n",
              "4   3.8        0.6              NA   20.20 0.175     55.500  4.820000    \n",
              "5   9.1        2.4       0.5000000   14.90 0.180     86.250  4.820000    \n",
              "6  12.1         NA              NA   11.90    NA     50.000 10.250000    \n",
              "7   6.2        1.5              NA   17.80 0.325     85.000 10.250000    \n",
              "8  15.8         NA              NA    8.20    NA    162.564 10.250000    \n",
              "9  10.4         NA              NA   13.60 0.157    100.000 10.250000    \n",
              "10 13.5         NA              NA   10.50    NA    161.499 10.250000    \n",
              "11  3.5        0.4              NA   20.50    NA     86.000 10.250000    \n",
              "12  2.7        0.1              NA   21.35    NA    800.000  4.500000    \n",
              "13  5.6         NA              NA   18.45    NA     53.180  4.500000    \n",
              "14  5.2         NA              NA   18.80    NA    173.330  4.500000    \n",
              "15 18.1        6.1              NA    5.90 0.081     60.000 18.100000    \n",
              "16  2.9        0.6       1.0000000   21.10 0.655    521.000  3.466667    \n",
              "17  3.1        0.4              NA   20.90 0.419    187.000  3.466667    \n",
              "18  4.4        1.0       0.9000000   19.60 0.169    207.501  3.466667    \n",
              "19  8.0        1.9       1.5000000   16.00 1.320     62.000  8.850000    \n",
              "20  9.7        1.4       1.4166667   14.30 0.440     52.200  8.850000    \n",
              "21  3.9         NA              NA   20.10 4.603   2547.000  3.600000    \n",
              "22  3.3         NA              NA   20.70 5.712   6654.000  3.600000    \n",
              "   average_sleep1\n",
              "1   0.964000     \n",
              "2   0.964000     \n",
              "3   0.964000     \n",
              "4   0.964000     \n",
              "5   0.964000     \n",
              "6   1.708333     \n",
              "7   1.708333     \n",
              "8   1.708333     \n",
              "9   1.708333     \n",
              "10  1.708333     \n",
              "11  1.708333     \n",
              "12  1.500000     \n",
              "13  1.500000     \n",
              "14  1.500000     \n",
              "15 18.100000     \n",
              "16  1.155556     \n",
              "17  1.155556     \n",
              "18  1.155556     \n",
              "19  4.425000     \n",
              "20  4.425000     \n",
              "21  1.800000     \n",
              "22  1.800000     "
            ]
          },
          "metadata": {}
        },
        {
          "output_type": "display_data",
          "data": {
            "text/plain": [
              "plot without title"
            ],
            "image/png": "[encoded data removed]"
          },
          "metadata": {
            "image/png": {
              "width": 420,
              "height": 420
            }
          }
        }
      ]
    },
    {
      "cell_type": "markdown",
      "source": [
        "## 3. Clean and Analyze Data Using R (4 pts)\n",
        "\n",
        "In the cells below use R to perform the following data cleaning steps on this file:\n",
        "https://raw.githubusercontent.com/nmagee/ds1002/main/data/social-media-users.csv\n",
        "\n",
        "1. Remove any duplicate rows.\n",
        "2. Remove any records where `last_login` or `birthdate` are empty.\n",
        "3. Display only the records with the 10 highest `follower` counts.\n",
        "4. Determine counts of users when grouped by continent."
      ],
      "metadata": {
        "id": "-2ZaFcCCv3o8"
      }
    },
    {
      "cell_type": "code",
      "source": [
        "# Importing Data\n",
        "\n",
        "df = read.csv(\"https://raw.githubusercontent.com/nmagee/ds1002/main/data/social-media-users.csv\")"
      ],
      "metadata": {
        "id": "9mssCV74BRo1"
      },
      "execution_count": 267,
      "outputs": []
    },
    {
      "cell_type": "code",
      "source": [
        "# Remove any duplicate rows\n",
        "\n",
        "# Counting rows\n",
        "nrow(df[duplicated(df), ])\n",
        "\n",
        "# Dropping Rows\n",
        "df <- df[!duplicated(df), ]\n",
        "\n",
        "# Checking Number After\n",
        "nrow(df[duplicated(df), ])"
      ],
      "metadata": {
        "id": "V4nBsdVsyauQ",
        "outputId": "babf7840-15f2-4cf0-9cc4-a445b55e64c8",
        "colab": {
          "base_uri": "https://localhost:8080/",
          "height": 52
        }
      },
      "execution_count": 268,
      "outputs": [
        {
          "output_type": "display_data",
          "data": {
            "text/html": [
              "318"
            ],
            "text/markdown": "318",
            "text/latex": "318",
            "text/plain": [
              "[1] 318"
            ]
          },
          "metadata": {}
        },
        {
          "output_type": "display_data",
          "data": {
            "text/html": [
              "0"
            ],
            "text/markdown": "0",
            "text/latex": "0",
            "text/plain": [
              "[1] 0"
            ]
          },
          "metadata": {}
        }
      ]
    },
    {
      "cell_type": "code",
      "source": [
        "# Remove any records where last_login or birthdate are empty\n",
        "\n",
        "# Making all empty values \"NA\"\n",
        "df[df==\"\"] <- NA\n",
        "\n",
        "# Deleting the NA's in the specific rows\n",
        "df <- df[complete.cases(df$last_login, df$birthdate), ]\n",
        "\n",
        "# Displaying the data frame to confirm\n",
        "df[1:10, ]"
      ],
      "metadata": {
        "id": "LwXD1sNulIT3",
        "outputId": "fdbc63f5-4801-4553-9362-f83fab7d961d",
        "colab": {
          "base_uri": "https://localhost:8080/",
          "height": 411
        }
      },
      "execution_count": 269,
      "outputs": [
        {
          "output_type": "display_data",
          "data": {
            "text/html": [
              "<table class=\"dataframe\">\n",
              "<caption>A data.frame: 10 × 8</caption>\n",
              "<thead>\n",
              "\t<tr><th></th><th scope=col>username</th><th scope=col>full_name</th><th scope=col>birthdate</th><th scope=col>email</th><th scope=col>continent</th><th scope=col>followers</th><th scope=col>last_login</th><th scope=col>interests</th></tr>\n",
              "\t<tr><th></th><th scope=col>&lt;chr&gt;</th><th scope=col>&lt;chr&gt;</th><th scope=col>&lt;chr&gt;</th><th scope=col>&lt;chr&gt;</th><th scope=col>&lt;chr&gt;</th><th scope=col>&lt;int&gt;</th><th scope=col>&lt;chr&gt;</th><th scope=col>&lt;chr&gt;</th></tr>\n",
              "</thead>\n",
              "<tbody>\n",
              "\t<tr><th scope=row>1</th><td>ckippen0   </td><td>Clevey Kippen    </td><td>5/1/1991 </td><td>ckippen0@t-online.de     </td><td>NA</td><td>12362</td><td>5/16/2023 </td><td>music </td></tr>\n",
              "\t<tr><th scope=row>2</th><td>tgergler1  </td><td>Tedi Gergler     </td><td>10/5/1998</td><td>tgergler1@salon.com      </td><td>NA</td><td>21360</td><td>8/20/2020 </td><td>sports</td></tr>\n",
              "\t<tr><th scope=row>4</th><td>rphettis3  </td><td>Ruddy Phettis    </td><td>6/18/1984</td><td>rphettis3@npr.org        </td><td>EU</td><td>80047</td><td>9/20/2023 </td><td>travel</td></tr>\n",
              "\t<tr><th scope=row>7</th><td>ttotman6   </td><td>Tamqrah Totman   </td><td>8/7/1986 </td><td>ttotman6@elpais.com      </td><td>AF</td><td>42669</td><td>3/10/2023 </td><td>music </td></tr>\n",
              "\t<tr><th scope=row>9</th><td>kgrigoryev8</td><td>Krishna Grigoryev</td><td>5/25/1990</td><td>kgrigoryev8@quantcast.com</td><td>EU</td><td>93923</td><td>1/30/2023 </td><td>travel</td></tr>\n",
              "\t<tr><th scope=row>12</th><td>mchittockb </td><td>Myriam Chittock  </td><td>1/26/1989</td><td>mchittockb@uiuc.edu      </td><td>AF</td><td>46304</td><td>8/29/2023 </td><td>sports</td></tr>\n",
              "\t<tr><th scope=row>14</th><td>aeasbyd    </td><td>Alessandra Easby </td><td>1/5/1991 </td><td>aeasbyd@google.ca        </td><td>AF</td><td>16786</td><td>6/15/2023 </td><td>sports</td></tr>\n",
              "\t<tr><th scope=row>16</th><td>dleishmanf </td><td>Dyane Leishman   </td><td>2/12/1990</td><td>dleishmanf@lycos.com     </td><td>NA</td><td>85070</td><td>6/5/2021  </td><td>travel</td></tr>\n",
              "\t<tr><th scope=row>19</th><td>omarusiki  </td><td>Otha Marusik     </td><td>12/4/1992</td><td>omarusiki@cdbaby.com     </td><td>AF</td><td>93981</td><td>2/4/2022  </td><td>travel</td></tr>\n",
              "\t<tr><th scope=row>21</th><td>sspenclayk </td><td>Scott Spenclay   </td><td>12/7/1989</td><td>sspenclayk@wikispaces.com</td><td>AF</td><td>31745</td><td>11/29/2022</td><td>sports</td></tr>\n",
              "</tbody>\n",
              "</table>\n"
            ],
            "text/markdown": "\nA data.frame: 10 × 8\n\n| <!--/--> | username &lt;chr&gt; | full_name &lt;chr&gt; | birthdate &lt;chr&gt; | email &lt;chr&gt; | continent &lt;chr&gt; | followers &lt;int&gt; | last_login &lt;chr&gt; | interests &lt;chr&gt; |\n|---|---|---|---|---|---|---|---|---|\n| 1 | ckippen0    | Clevey Kippen     | 5/1/1991  | ckippen0@t-online.de      | NA | 12362 | 5/16/2023  | music  |\n| 2 | tgergler1   | Tedi Gergler      | 10/5/1998 | tgergler1@salon.com       | NA | 21360 | 8/20/2020  | sports |\n| 4 | rphettis3   | Ruddy Phettis     | 6/18/1984 | rphettis3@npr.org         | EU | 80047 | 9/20/2023  | travel |\n| 7 | ttotman6    | Tamqrah Totman    | 8/7/1986  | ttotman6@elpais.com       | AF | 42669 | 3/10/2023  | music  |\n| 9 | kgrigoryev8 | Krishna Grigoryev | 5/25/1990 | kgrigoryev8@quantcast.com | EU | 93923 | 1/30/2023  | travel |\n| 12 | mchittockb  | Myriam Chittock   | 1/26/1989 | mchittockb@uiuc.edu       | AF | 46304 | 8/29/2023  | sports |\n| 14 | aeasbyd     | Alessandra Easby  | 1/5/1991  | aeasbyd@google.ca         | AF | 16786 | 6/15/2023  | sports |\n| 16 | dleishmanf  | Dyane Leishman    | 2/12/1990 | dleishmanf@lycos.com      | NA | 85070 | 6/5/2021   | travel |\n| 19 | omarusiki   | Otha Marusik      | 12/4/1992 | omarusiki@cdbaby.com      | AF | 93981 | 2/4/2022   | travel |\n| 21 | sspenclayk  | Scott Spenclay    | 12/7/1989 | sspenclayk@wikispaces.com | AF | 31745 | 11/29/2022 | sports |\n\n",
            "text/latex": "A data.frame: 10 × 8\n\\begin{tabular}{r|llllllll}\n  & username & full\\_name & birthdate & email & continent & followers & last\\_login & interests\\\\\n  & <chr> & <chr> & <chr> & <chr> & <chr> & <int> & <chr> & <chr>\\\\\n\\hline\n\t1 & ckippen0    & Clevey Kippen     & 5/1/1991  & ckippen0@t-online.de      & NA & 12362 & 5/16/2023  & music \\\\\n\t2 & tgergler1   & Tedi Gergler      & 10/5/1998 & tgergler1@salon.com       & NA & 21360 & 8/20/2020  & sports\\\\\n\t4 & rphettis3   & Ruddy Phettis     & 6/18/1984 & rphettis3@npr.org         & EU & 80047 & 9/20/2023  & travel\\\\\n\t7 & ttotman6    & Tamqrah Totman    & 8/7/1986  & ttotman6@elpais.com       & AF & 42669 & 3/10/2023  & music \\\\\n\t9 & kgrigoryev8 & Krishna Grigoryev & 5/25/1990 & kgrigoryev8@quantcast.com & EU & 93923 & 1/30/2023  & travel\\\\\n\t12 & mchittockb  & Myriam Chittock   & 1/26/1989 & mchittockb@uiuc.edu       & AF & 46304 & 8/29/2023  & sports\\\\\n\t14 & aeasbyd     & Alessandra Easby  & 1/5/1991  & aeasbyd@google.ca         & AF & 16786 & 6/15/2023  & sports\\\\\n\t16 & dleishmanf  & Dyane Leishman    & 2/12/1990 & dleishmanf@lycos.com      & NA & 85070 & 6/5/2021   & travel\\\\\n\t19 & omarusiki   & Otha Marusik      & 12/4/1992 & omarusiki@cdbaby.com      & AF & 93981 & 2/4/2022   & travel\\\\\n\t21 & sspenclayk  & Scott Spenclay    & 12/7/1989 & sspenclayk@wikispaces.com & AF & 31745 & 11/29/2022 & sports\\\\\n\\end{tabular}\n",
            "text/plain": [
              "   username    full_name         birthdate email                     continent\n",
              "1  ckippen0    Clevey Kippen     5/1/1991  ckippen0@t-online.de      NA       \n",
              "2  tgergler1   Tedi Gergler      10/5/1998 tgergler1@salon.com       NA       \n",
              "4  rphettis3   Ruddy Phettis     6/18/1984 rphettis3@npr.org         EU       \n",
              "7  ttotman6    Tamqrah Totman    8/7/1986  ttotman6@elpais.com       AF       \n",
              "9  kgrigoryev8 Krishna Grigoryev 5/25/1990 kgrigoryev8@quantcast.com EU       \n",
              "12 mchittockb  Myriam Chittock   1/26/1989 mchittockb@uiuc.edu       AF       \n",
              "14 aeasbyd     Alessandra Easby  1/5/1991  aeasbyd@google.ca         AF       \n",
              "16 dleishmanf  Dyane Leishman    2/12/1990 dleishmanf@lycos.com      NA       \n",
              "19 omarusiki   Otha Marusik      12/4/1992 omarusiki@cdbaby.com      AF       \n",
              "21 sspenclayk  Scott Spenclay    12/7/1989 sspenclayk@wikispaces.com AF       \n",
              "   followers last_login interests\n",
              "1  12362     5/16/2023  music    \n",
              "2  21360     8/20/2020  sports   \n",
              "4  80047     9/20/2023  travel   \n",
              "7  42669     3/10/2023  music    \n",
              "9  93923     1/30/2023  travel   \n",
              "12 46304     8/29/2023  sports   \n",
              "14 16786     6/15/2023  sports   \n",
              "16 85070     6/5/2021   travel   \n",
              "19 93981     2/4/2022   travel   \n",
              "21 31745     11/29/2022 sports   "
            ]
          },
          "metadata": {}
        }
      ]
    },
    {
      "cell_type": "code",
      "source": [
        "# Display only the records with the 10 highest follower counts\n",
        "\n",
        "followers = df[order(df$followers, decreasing = TRUE), ]\n",
        "followers[1:10, ]"
      ],
      "metadata": {
        "id": "7qa100btlI4Z",
        "outputId": "2191ceb5-0087-4446-b227-a4472e97cd57",
        "colab": {
          "base_uri": "https://localhost:8080/",
          "height": 411
        }
      },
      "execution_count": 270,
      "outputs": [
        {
          "output_type": "display_data",
          "data": {
            "text/html": [
              "<table class=\"dataframe\">\n",
              "<caption>A data.frame: 10 × 8</caption>\n",
              "<thead>\n",
              "\t<tr><th></th><th scope=col>username</th><th scope=col>full_name</th><th scope=col>birthdate</th><th scope=col>email</th><th scope=col>continent</th><th scope=col>followers</th><th scope=col>last_login</th><th scope=col>interests</th></tr>\n",
              "\t<tr><th></th><th scope=col>&lt;chr&gt;</th><th scope=col>&lt;chr&gt;</th><th scope=col>&lt;chr&gt;</th><th scope=col>&lt;chr&gt;</th><th scope=col>&lt;chr&gt;</th><th scope=col>&lt;int&gt;</th><th scope=col>&lt;chr&gt;</th><th scope=col>&lt;chr&gt;</th></tr>\n",
              "</thead>\n",
              "<tbody>\n",
              "\t<tr><th scope=row>721</th><td>lleckeyb6    </td><td>Lynne Leckey        </td><td>4/19/1998 </td><td>lleckeyb6@tripadvisor.com</td><td>SA</td><td>99977</td><td>3/14/2021 </td><td>sports</td></tr>\n",
              "\t<tr><th scope=row>681</th><td>spharoaha2   </td><td>Staci Pharoah       </td><td>9/2/1985  </td><td>spharoaha2@sfgate.com    </td><td>NA</td><td>99905</td><td>10/26/2023</td><td>sports</td></tr>\n",
              "\t<tr><th scope=row>821</th><td>cduftondy    </td><td>Celisse Dufton      </td><td>8/24/1995 </td><td>cduftondy@ox.ac.uk       </td><td>OC</td><td>99707</td><td>9/26/2021 </td><td>sports</td></tr>\n",
              "\t<tr><th scope=row>578</th><td>dbartalin77  </td><td>Desiree Bartalin    </td><td>8/23/1993 </td><td>dbartalin77@usda.gov     </td><td>AF</td><td>99618</td><td>5/30/2022 </td><td>music </td></tr>\n",
              "\t<tr><th scope=row>1136</th><td>grivardmp    </td><td>Gwen Rivard         </td><td>9/12/1982 </td><td>grivardmp@google.com.hk  </td><td>OC</td><td>99526</td><td>4/4/2020  </td><td>music </td></tr>\n",
              "\t<tr><th scope=row>659</th><td>mraggitt9g   </td><td>Morgan Raggitt      </td><td>11/16/1992</td><td>mraggitt9g@home.pl       </td><td>NA</td><td>99508</td><td>11/12/2021</td><td>music </td></tr>\n",
              "\t<tr><th scope=row>830</th><td>wbenese7     </td><td>Wain Benes          </td><td>3/9/1998  </td><td>wbenese7@ebay.com        </td><td>NA</td><td>99400</td><td>10/1/2021 </td><td>travel</td></tr>\n",
              "\t<tr><th scope=row>960</th><td>kmorriceht   </td><td>Kitti Morrice       </td><td>6/3/1995  </td><td>kmorriceht@privacy.gov.au</td><td>SA</td><td>98936</td><td>3/24/2021 </td><td>sports</td></tr>\n",
              "\t<tr><th scope=row>595</th><td>smacdonnell7o</td><td>Shoshanna MacDonnell</td><td>9/12/2002 </td><td>smacdonnell7o@toplist.cz </td><td>AS</td><td>98760</td><td>7/20/2021 </td><td>music </td></tr>\n",
              "\t<tr><th scope=row>113</th><td>dcossum34    </td><td>Dwain Cossum        </td><td>9/9/1990  </td><td>dcossum34@dagondesign.com</td><td>NA</td><td>98743</td><td>6/7/2021  </td><td>sports</td></tr>\n",
              "</tbody>\n",
              "</table>\n"
            ],
            "text/markdown": "\nA data.frame: 10 × 8\n\n| <!--/--> | username &lt;chr&gt; | full_name &lt;chr&gt; | birthdate &lt;chr&gt; | email &lt;chr&gt; | continent &lt;chr&gt; | followers &lt;int&gt; | last_login &lt;chr&gt; | interests &lt;chr&gt; |\n|---|---|---|---|---|---|---|---|---|\n| 721 | lleckeyb6     | Lynne Leckey         | 4/19/1998  | lleckeyb6@tripadvisor.com | SA | 99977 | 3/14/2021  | sports |\n| 681 | spharoaha2    | Staci Pharoah        | 9/2/1985   | spharoaha2@sfgate.com     | NA | 99905 | 10/26/2023 | sports |\n| 821 | cduftondy     | Celisse Dufton       | 8/24/1995  | cduftondy@ox.ac.uk        | OC | 99707 | 9/26/2021  | sports |\n| 578 | dbartalin77   | Desiree Bartalin     | 8/23/1993  | dbartalin77@usda.gov      | AF | 99618 | 5/30/2022  | music  |\n| 1136 | grivardmp     | Gwen Rivard          | 9/12/1982  | grivardmp@google.com.hk   | OC | 99526 | 4/4/2020   | music  |\n| 659 | mraggitt9g    | Morgan Raggitt       | 11/16/1992 | mraggitt9g@home.pl        | NA | 99508 | 11/12/2021 | music  |\n| 830 | wbenese7      | Wain Benes           | 3/9/1998   | wbenese7@ebay.com         | NA | 99400 | 10/1/2021  | travel |\n| 960 | kmorriceht    | Kitti Morrice        | 6/3/1995   | kmorriceht@privacy.gov.au | SA | 98936 | 3/24/2021  | sports |\n| 595 | smacdonnell7o | Shoshanna MacDonnell | 9/12/2002  | smacdonnell7o@toplist.cz  | AS | 98760 | 7/20/2021  | music  |\n| 113 | dcossum34     | Dwain Cossum         | 9/9/1990   | dcossum34@dagondesign.com | NA | 98743 | 6/7/2021   | sports |\n\n",
            "text/latex": "A data.frame: 10 × 8\n\\begin{tabular}{r|llllllll}\n  & username & full\\_name & birthdate & email & continent & followers & last\\_login & interests\\\\\n  & <chr> & <chr> & <chr> & <chr> & <chr> & <int> & <chr> & <chr>\\\\\n\\hline\n\t721 & lleckeyb6     & Lynne Leckey         & 4/19/1998  & lleckeyb6@tripadvisor.com & SA & 99977 & 3/14/2021  & sports\\\\\n\t681 & spharoaha2    & Staci Pharoah        & 9/2/1985   & spharoaha2@sfgate.com     & NA & 99905 & 10/26/2023 & sports\\\\\n\t821 & cduftondy     & Celisse Dufton       & 8/24/1995  & cduftondy@ox.ac.uk        & OC & 99707 & 9/26/2021  & sports\\\\\n\t578 & dbartalin77   & Desiree Bartalin     & 8/23/1993  & dbartalin77@usda.gov      & AF & 99618 & 5/30/2022  & music \\\\\n\t1136 & grivardmp     & Gwen Rivard          & 9/12/1982  & grivardmp@google.com.hk   & OC & 99526 & 4/4/2020   & music \\\\\n\t659 & mraggitt9g    & Morgan Raggitt       & 11/16/1992 & mraggitt9g@home.pl        & NA & 99508 & 11/12/2021 & music \\\\\n\t830 & wbenese7      & Wain Benes           & 3/9/1998   & wbenese7@ebay.com         & NA & 99400 & 10/1/2021  & travel\\\\\n\t960 & kmorriceht    & Kitti Morrice        & 6/3/1995   & kmorriceht@privacy.gov.au & SA & 98936 & 3/24/2021  & sports\\\\\n\t595 & smacdonnell7o & Shoshanna MacDonnell & 9/12/2002  & smacdonnell7o@toplist.cz  & AS & 98760 & 7/20/2021  & music \\\\\n\t113 & dcossum34     & Dwain Cossum         & 9/9/1990   & dcossum34@dagondesign.com & NA & 98743 & 6/7/2021   & sports\\\\\n\\end{tabular}\n",
            "text/plain": [
              "     username      full_name            birthdate  email                    \n",
              "721  lleckeyb6     Lynne Leckey         4/19/1998  lleckeyb6@tripadvisor.com\n",
              "681  spharoaha2    Staci Pharoah        9/2/1985   spharoaha2@sfgate.com    \n",
              "821  cduftondy     Celisse Dufton       8/24/1995  cduftondy@ox.ac.uk       \n",
              "578  dbartalin77   Desiree Bartalin     8/23/1993  dbartalin77@usda.gov     \n",
              "1136 grivardmp     Gwen Rivard          9/12/1982  grivardmp@google.com.hk  \n",
              "659  mraggitt9g    Morgan Raggitt       11/16/1992 mraggitt9g@home.pl       \n",
              "830  wbenese7      Wain Benes           3/9/1998   wbenese7@ebay.com        \n",
              "960  kmorriceht    Kitti Morrice        6/3/1995   kmorriceht@privacy.gov.au\n",
              "595  smacdonnell7o Shoshanna MacDonnell 9/12/2002  smacdonnell7o@toplist.cz \n",
              "113  dcossum34     Dwain Cossum         9/9/1990   dcossum34@dagondesign.com\n",
              "     continent followers last_login interests\n",
              "721  SA        99977     3/14/2021  sports   \n",
              "681  NA        99905     10/26/2023 sports   \n",
              "821  OC        99707     9/26/2021  sports   \n",
              "578  AF        99618     5/30/2022  music    \n",
              "1136 OC        99526     4/4/2020   music    \n",
              "659  NA        99508     11/12/2021 music    \n",
              "830  NA        99400     10/1/2021  travel   \n",
              "960  SA        98936     3/24/2021  sports   \n",
              "595  AS        98760     7/20/2021  music    \n",
              "113  NA        98743     6/7/2021   sports   "
            ]
          },
          "metadata": {}
        }
      ]
    },
    {
      "cell_type": "code",
      "source": [
        "# Loading Libraries\n",
        "\n",
        "library(tidyverse)"
      ],
      "metadata": {
        "id": "Su5yUh-yQdpH"
      },
      "execution_count": 271,
      "outputs": []
    },
    {
      "cell_type": "code",
      "source": [
        "# Determine counts of users when grouped by continent\n",
        "\n",
        "df %>%\n",
        "  group_by(continent) %>%\n",
        "  summarise(count = n())"
      ],
      "metadata": {
        "id": "MjrZisnxlJUa",
        "outputId": "5772a706-de3b-436f-f9fe-0646275014a3",
        "colab": {
          "base_uri": "https://localhost:8080/",
          "height": 286
        }
      },
      "execution_count": 272,
      "outputs": [
        {
          "output_type": "display_data",
          "data": {
            "text/html": [
              "<table class=\"dataframe\">\n",
              "<caption>A tibble: 6 × 2</caption>\n",
              "<thead>\n",
              "\t<tr><th scope=col>continent</th><th scope=col>count</th></tr>\n",
              "\t<tr><th scope=col>&lt;chr&gt;</th><th scope=col>&lt;int&gt;</th></tr>\n",
              "</thead>\n",
              "<tbody>\n",
              "\t<tr><td>AF</td><td> 70</td></tr>\n",
              "\t<tr><td>AS</td><td>111</td></tr>\n",
              "\t<tr><td>EU</td><td> 77</td></tr>\n",
              "\t<tr><td>OC</td><td> 95</td></tr>\n",
              "\t<tr><td>SA</td><td> 69</td></tr>\n",
              "\t<tr><td>NA</td><td>228</td></tr>\n",
              "</tbody>\n",
              "</table>\n"
            ],
            "text/markdown": "\nA tibble: 6 × 2\n\n| continent &lt;chr&gt; | count &lt;int&gt; |\n|---|---|\n| AF |  70 |\n| AS | 111 |\n| EU |  77 |\n| OC |  95 |\n| SA |  69 |\n| NA | 228 |\n\n",
            "text/latex": "A tibble: 6 × 2\n\\begin{tabular}{ll}\n continent & count\\\\\n <chr> & <int>\\\\\n\\hline\n\t AF &  70\\\\\n\t AS & 111\\\\\n\t EU &  77\\\\\n\t OC &  95\\\\\n\t SA &  69\\\\\n\t NA & 228\\\\\n\\end{tabular}\n",
            "text/plain": [
              "  continent count\n",
              "1 AF         70  \n",
              "2 AS        111  \n",
              "3 EU         77  \n",
              "4 OC         95  \n",
              "5 SA         69  \n",
              "6 NA        228  "
            ]
          },
          "metadata": {}
        }
      ]
    }
  ]
}
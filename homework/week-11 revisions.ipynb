{
  "nbformat": 4,
  "nbformat_minor": 0,
  "metadata": {
    "colab": {
      "provenance": [],
      "include_colab_link": true
    },
    "kernelspec": {
      "name": "python3",
      "display_name": "Python 3"
    },
    "language_info": {
      "name": "python"
    }
  },
  "cells": [
    {
      "cell_type": "markdown",
      "metadata": {
        "id": "view-in-github",
        "colab_type": "text"
      },
      "source": [
        "<a href=\"https://colab.research.google.com/github/mattmangiacapre/ds1002-bvm5mj/blob/main/homework/week-11%20revisions.ipynb\" target=\"_parent\"><img src=\"https://colab.research.google.com/assets/colab-badge.svg\" alt=\"Open In Colab\"/></a>"
      ]
    },
    {
      "cell_type": "markdown",
      "source": [
        "# Homework - Error Handling & Recursion\n",
        "\n",
        "Complete the cells below. Pay close attention to all directions given.\n",
        "\n",
        "## Error Handling (3 pts)\n",
        "\n",
        "```\n",
        "def throw_me_an_error():\n",
        "  val1 = 14\n",
        "  val2 = 0\n",
        "  return val1 / val2\n",
        "\n",
        "throw_me_an_error()\n",
        "```\n",
        "\n",
        "The function above is designed to deliberately throw an error.\n",
        "\n",
        "Create a new version of the function but add `try` and `except` statements correctly. Your exception should print out the type of error this function created. There are a couple of different ways you could do this.\n"
      ],
      "metadata": {
        "id": "v14Xtd9oiTGF"
      }
    },
    {
      "cell_type": "code",
      "source": [
        "def throw_me_an_error():\n",
        "  try: # attempting to perform the function\n",
        "    val1 = 14\n",
        "    val2 = 0\n",
        "    return val1 / val2\n",
        "  except Exception as e:# recognizing that if this function can't perform, it will identify whatever the error is as \"e\"\n",
        "    print(f\"There is a {e} error\") # Here it prints the error when the function is called\n",
        "\n",
        "throw_me_an_error() # Calling the function, which will execute the try and except statements"
      ],
      "metadata": {
        "id": "MkLXaLz6d6xr",
        "outputId": "3b635337-d839-4013-a544-f4d2da26d91b",
        "colab": {
          "base_uri": "https://localhost:8080/"
        }
      },
      "execution_count": 7,
      "outputs": [
        {
          "output_type": "stream",
          "name": "stdout",
          "text": [
            "There is a division by zero error\n"
          ]
        }
      ]
    },
    {
      "cell_type": "markdown",
      "source": [
        "## Error Handling (4 pts)\n",
        "\n",
        "Extend the class below to include some error handling. Assume the remote resource is offline for a moment: How would you give a message to the user indicating what has gone wrong? (Hint: one way you can test this is by deliberately misspelling the URL for the remote resource.)\n",
        "\n",
        "Also, include error handling logic so that execution of the class method `guid()` always returns a line \"Your request has been completed\" along with the guid it created.\n",
        "\n",
        "```\n",
        "import requests\n",
        "import json\n",
        "import sys\n",
        "\n",
        "class Id:\n",
        "\n",
        "  def guid():\n",
        "    response = requests.get('https://ids.pods.uvarc.io/guid')\n",
        "    body = json.loads(response.text)\n",
        "    return body['id']\n",
        "\n",
        "Id.guid()\n",
        "```"
      ],
      "metadata": {
        "id": "gf9m78RWmWqC"
      }
    },
    {
      "cell_type": "code",
      "source": [
        "# Erased previous version comments, meaning new comments relate to my changes.\n",
        "\n",
        "import requests\n",
        "import json\n",
        "import sys\n",
        "\n",
        "class Id:\n",
        "\n",
        "  def guid():\n",
        "    try:\n",
        "      response = requests.get('https://idrs.pods.uvarc.io/guid') ## the \"r\" in \"idrs\" signifies a poor connection\n",
        "      body = json.loads(response.text)\n",
        "      return body['id']\n",
        "    except:\n",
        "      print(\"An error occured while connecting to the remote source.\")\n",
        "    finally: ## added the \"finally\" to ensure that everytime the class is executed always returns a completed request\n",
        "      response = requests.get('https://ids.pods.uvarc.io/guid') ## ensures correct connection with the actual URL\n",
        "      body = json.loads(response.text)\n",
        "      print(\"Your request has been completed\") ## showing request has been completed\n",
        "      return print(f\"Your request has been recieved as: {body['id']}\") ## displaying the guid after the error handling\n",
        "\n",
        "\n",
        "Id.guid()"
      ],
      "metadata": {
        "id": "m7AwZyOhl19w",
        "outputId": "84285712-10af-462e-d5e8-49f9ebea5521",
        "colab": {
          "base_uri": "https://localhost:8080/"
        }
      },
      "execution_count": 87,
      "outputs": [
        {
          "output_type": "stream",
          "name": "stdout",
          "text": [
            "An error occured while connecting to the remote source.\n",
            "Your request has been completed\n",
            "Your request has been recieved as: 8d91dc0f-13de-45bf-a943-07b65e8e3fa5\n"
          ]
        }
      ]
    },
    {
      "cell_type": "markdown",
      "source": [
        "## Recursive Functions (3 pts)\n",
        "\n",
        "In the cell below, explain line by line the logic of what is being calculated when the function is called with an input value of 2.\n",
        "\n",
        "```\n",
        "def squarer(n):\n",
        "  if n == 1:\n",
        "    return 2\n",
        "  else:\n",
        "    return squarer(n-1) ** 2 + n\n",
        "\n",
        "squarer(2)\n",
        "```"
      ],
      "metadata": {
        "id": "XCuNofSFomZ6"
      }
    },
    {
      "cell_type": "code",
      "source": [
        "# answer goes here. Add space as needed.\n",
        "\n",
        "def squarer(n):\n",
        "  if n == 1:\n",
        "    return 2\n",
        "  else:\n",
        "    return squarer(n-1) ** 2 + n\n",
        "\n",
        "squarer(2)\n",
        "\n",
        "# Line 1: Defining the function \"squarer\" so that it has a parameter \"n\"\n",
        "# which will be any number you put into the function when it is called.\n",
        "# In this case, it will be 2.\n",
        "\n",
        "# Line 2: The number 2 is not equal to 1.\n",
        "\n",
        "# Line 3: Therefore, the function will not return 2 to the value of the function\n",
        "# when it's called.\n",
        "\n",
        "# Line 4: The function moves on to the else statement instead.\n",
        "\n",
        "# Line 5: This line calls back on the function \"squarer\" recursively with\n",
        "# the number that populated the function (2), but 1 minus that (1). When the\n",
        "# function then repeats, 1 satisfies the condition of \"n == 1\" so 2 is the stored\n",
        "# value for squarer. From here, 2 ** 2 is 4, plus 2 equals 6."
      ],
      "metadata": {
        "id": "oYiqS2cxxXm4",
        "outputId": "b3fe19e3-6f31-4e52-d2a0-e17c7f110148",
        "colab": {
          "base_uri": "https://localhost:8080/"
        }
      },
      "execution_count": 1,
      "outputs": [
        {
          "output_type": "execute_result",
          "data": {
            "text/plain": [
              "6"
            ]
          },
          "metadata": {},
          "execution_count": 1
        }
      ]
    }
  ]
}
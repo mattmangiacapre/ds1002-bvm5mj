{
  "nbformat": 4,
  "nbformat_minor": 0,
  "metadata": {
    "colab": {
      "provenance": [],
      "include_colab_link": true
    },
    "kernelspec": {
      "name": "python3",
      "display_name": "Python 3"
    },
    "language_info": {
      "name": "python"
    }
  },
  "cells": [
    {
      "cell_type": "markdown",
      "metadata": {
        "id": "view-in-github",
        "colab_type": "text"
      },
      "source": [
        "<a href=\"https://colab.research.google.com/github/mattmangiacapre/ds1002-bvm5mj/blob/main/homework/week-9.ipynb\" target=\"_parent\"><img src=\"https://colab.research.google.com/assets/colab-badge.svg\" alt=\"Open In Colab\"/></a>"
      ]
    },
    {
      "cell_type": "markdown",
      "source": [
        "# Homework - Week 9\n",
        "\n",
        "Complete the following blocks as specified in the directions. Run each cell to return the desired output. Save your notebook back to your GitHub repository and submit the GitHub URL to your notebook for review."
      ],
      "metadata": {
        "id": "phbaQTT5gy8A"
      }
    },
    {
      "cell_type": "markdown",
      "source": [
        "## Functions\n",
        "\n",
        "In the cell below define a function that takes one parameter (in the form of a list) called `names` and returns a simple greeting for each name, such as\n",
        "\n",
        "    \"Hello Natasha, it's so nice to meet you\"\n",
        "    \"Hello Sid, it's so nice to meet you\"\n",
        "\n",
        "Define the function and run it, and in another cell below call the function populated with a var of a list of names."
      ],
      "metadata": {
        "id": "38Pg39pMrDua"
      }
    },
    {
      "cell_type": "code",
      "source": [
        "# Defining Function\n",
        "\n",
        "def greet(names):\n",
        "  for name in names:\n",
        "    return(\"Hello \" + name + \", it's so nice to meet you\")"
      ],
      "metadata": {
        "id": "kdFLCHtOg53p"
      },
      "execution_count": 2,
      "outputs": []
    },
    {
      "cell_type": "code",
      "source": [
        "# List of Names\n",
        "\n",
        "friends = [\"Matt\", \"Stephen\", \"Dom\", \"Marty\", \"Travis\"]\n",
        "\n",
        "# Calling Function\n",
        "greet(friends)"
      ],
      "metadata": {
        "id": "JlNPe_XUsmog",
        "outputId": "c729aadf-44a5-4980-b5cb-d45366754ebd",
        "colab": {
          "base_uri": "https://localhost:8080/",
          "height": 35
        }
      },
      "execution_count": 3,
      "outputs": [
        {
          "output_type": "execute_result",
          "data": {
            "text/plain": [
              "\"Hello Matt, it's so nice to meet you\""
            ],
            "application/vnd.google.colaboratory.intrinsic+json": {
              "type": "string"
            }
          },
          "metadata": {},
          "execution_count": 3
        }
      ]
    },
    {
      "cell_type": "markdown",
      "source": [
        "Using the following list, pass it into a function you define that will evaluate the list and return a count of how many items is in it. Be creative.\n",
        "\n",
        "```\n",
        "mylist = [\"Toronto\",\"Buffalo\",\"Syracuse\",\"Albany\",\"Schenectady\",\"Brooklyn\",\"Rome\",\"Ithaca\"]\n",
        "```"
      ],
      "metadata": {
        "id": "mXqNACpkrdUZ"
      }
    },
    {
      "cell_type": "code",
      "source": [
        "# Defining Function\n",
        "\n",
        "def item_counter(items):\n",
        "  counter = 0\n",
        "  for item in items:\n",
        "    counter = counter + 1\n",
        "  return(counter)\n",
        "\n",
        "# Calling Function with List Example\n",
        "\n",
        "mylist = [\"Toronto\",\"Buffalo\",\"Syracuse\",\"Albany\",\"Schenectady\",\"Brooklyn\",\"Rome\",\"Ithaca\"]\n",
        "\n",
        "item_counter(mylist)"
      ],
      "metadata": {
        "id": "mvxOzRSisg0a",
        "outputId": "c526b0a1-13f8-4ff4-e188-101084c33f58",
        "colab": {
          "base_uri": "https://localhost:8080/"
        }
      },
      "execution_count": 8,
      "outputs": [
        {
          "output_type": "execute_result",
          "data": {
            "text/plain": [
              "8"
            ]
          },
          "metadata": {},
          "execution_count": 8
        }
      ]
    },
    {
      "cell_type": "markdown",
      "source": [
        "## Input Validation\n",
        "\n",
        "Write a function below that defines two input parameters as `bool` and returns a `bool`.\n",
        "In the cell below that, populate two variables with two different bools (True and False)\n",
        "and pass them into a call of your function."
      ],
      "metadata": {
        "id": "YU7FXSCXsFab"
      }
    },
    {
      "cell_type": "code",
      "source": [
        "# Defining Function\n",
        "\n",
        "def evaluation(statement1, statement2):\n",
        "  logic = statement1 and statement2\n",
        "  return logic"
      ],
      "metadata": {
        "id": "DGMJZjlysfHU"
      },
      "execution_count": 11,
      "outputs": []
    },
    {
      "cell_type": "code",
      "source": [
        "# Populating Variables\n",
        "\n",
        "dogs_are_cool = True\n",
        "cats_are_cool = False\n",
        "\n",
        "# Evaluating Variables using Function\n",
        "\n",
        "evaluation(dogs_are_cool, cats_are_cool)"
      ],
      "metadata": {
        "id": "6Pa9tjmXCsMH",
        "outputId": "d62d3726-5c98-4113-bd3d-bcab859ac8ec",
        "colab": {
          "base_uri": "https://localhost:8080/"
        }
      },
      "execution_count": 12,
      "outputs": [
        {
          "output_type": "execute_result",
          "data": {
            "text/plain": [
              "False"
            ]
          },
          "metadata": {},
          "execution_count": 12
        }
      ]
    },
    {
      "cell_type": "markdown",
      "source": [
        "## Global Variables\n",
        "\n",
        "Define a global variable and populate it with a data type (int, str, bool, float, etc.)"
      ],
      "metadata": {
        "id": "xXZTr5fdsd5M"
      }
    },
    {
      "cell_type": "code",
      "source": [
        "# Defining Global Variable\n",
        "\n",
        "global countries\n",
        "\n",
        "\n",
        "# Populating\n",
        "\n",
        "countries = [\"Spain\", \"Mexico\", \"Guatemala\"]"
      ],
      "metadata": {
        "id": "HN8CFLVRs6_L"
      },
      "execution_count": 27,
      "outputs": []
    },
    {
      "cell_type": "markdown",
      "source": [
        "Now create a function that prints out the global variable. Call the function and display the value of the var."
      ],
      "metadata": {
        "id": "G1Auc6l1s8F6"
      }
    },
    {
      "cell_type": "code",
      "source": [
        "# Function\n",
        "\n",
        "def global_var(data):\n",
        "  return(data)\n",
        "\n",
        "# Calling Function and Displaying Global Variable\n",
        "\n",
        "global_var(countries)\n",
        "print(countries)"
      ],
      "metadata": {
        "id": "Q6O0Ep_wtBWJ",
        "outputId": "43685960-3825-4348-b530-6cbc2e963cad",
        "colab": {
          "base_uri": "https://localhost:8080/"
        }
      },
      "execution_count": 17,
      "outputs": [
        {
          "output_type": "stream",
          "name": "stdout",
          "text": [
            "['Spain', 'Mexico', 'Guatemala']\n"
          ]
        }
      ]
    },
    {
      "cell_type": "markdown",
      "source": [
        "Now create a function that creates its own global var and populates it.\n",
        "Call the function and then print out the global var from outside of the function."
      ],
      "metadata": {
        "id": "IN2TRQI8tCC4"
      }
    },
    {
      "cell_type": "code",
      "source": [
        "# Defining Function\n",
        "\n",
        "def global_var_inside():\n",
        "  global sports\n",
        "  sports = [\"Hockey\", \"Football\", \"Basketball\"]\n",
        "  return(sports)\n",
        "\n",
        "# Calling Function\n",
        "\n",
        "global_var_inside()\n",
        "\n",
        "# Printing Outside of the Function\n",
        "\n",
        "print(sports)"
      ],
      "metadata": {
        "id": "Oz4rnmfTtKen",
        "outputId": "8290f86b-a709-4d84-c62b-316f9c6024de",
        "colab": {
          "base_uri": "https://localhost:8080/"
        }
      },
      "execution_count": 21,
      "outputs": [
        {
          "output_type": "stream",
          "name": "stdout",
          "text": [
            "['Hockey', 'Football', 'Basketball']\n"
          ]
        }
      ]
    },
    {
      "cell_type": "markdown",
      "source": [
        "Finally, write a function that updates the value of the global var you defined 3 cells above.\n",
        "\n",
        "1. Within the function, print out the global var you defined 3 cells above.\n",
        "2. Update the global var to have a new value.\n",
        "3. Within the function, print the new value of the global var.\n",
        "\n",
        "Call the function and once more print out the value of the global var from outside of the function."
      ],
      "metadata": {
        "id": "jv0dtym0tLZn"
      }
    },
    {
      "cell_type": "code",
      "source": [
        "# Defining Function\n",
        "\n",
        "def update_global_var():\n",
        "  print(countries)\n",
        "  countries.append(\"Chile\")\n",
        "  return(countries)\n",
        "\n",
        "# Calling Funtion\n",
        "\n",
        "update_global_var()\n",
        "\n",
        "# Printing Outside of the Function\n",
        "\n",
        "print(countries)"
      ],
      "metadata": {
        "id": "pnX-hfKouLcG",
        "outputId": "a44802f6-cbf1-406b-806e-c1e16cdab6cd",
        "colab": {
          "base_uri": "https://localhost:8080/"
        }
      },
      "execution_count": 31,
      "outputs": [
        {
          "output_type": "stream",
          "name": "stdout",
          "text": [
            "['Spain', 'Mexico', 'Guatemala', 'Chile', 'Chile', 'Chile']\n",
            "['Spain', 'Mexico', 'Guatemala', 'Chile', 'Chile', 'Chile', 'Chile']\n"
          ]
        }
      ]
    }
  ]
}